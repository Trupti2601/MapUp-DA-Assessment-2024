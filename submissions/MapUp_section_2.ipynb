{
  "nbformat": 4,
  "nbformat_minor": 0,
  "metadata": {
    "colab": {
      "provenance": []
    },
    "kernelspec": {
      "name": "python3",
      "display_name": "Python 3"
    },
    "language_info": {
      "name": "python"
    }
  },
  "cells": [
    {
      "cell_type": "code",
      "execution_count": 27,
      "metadata": {
        "id": "ZMyal0QXN_WX"
      },
      "outputs": [],
      "source": [
        "import pandas as pd\n",
        "import numpy as np\n",
        "\n",
        "def calculate_distance_matrix(df) -> pd.DataFrame():\n",
        "  unique_ids = pd.unique(df[['id_start', 'id_end']].values.ravel())\n",
        "  distance_matrix = pd.DataFrame(np.inf, index=unique_ids, columns=unique_ids)\n",
        "  np.fill_diagonal(distance_matrix.values, 0)\n",
        "  for _, row in df.iterrows():\n",
        "    start, end, distance = row['id_start'], row['id_end'], row['distance']\n",
        "    distance_matrix.at[start, end] = distance\n",
        "    distance_matrix.at[end, start] = distance\n",
        "  for k in unique_ids:\n",
        "    for i in unique_ids:\n",
        "      for j in unique_ids:\n",
        "        distance_matrix.at[i, j] = min(distance_matrix.at[i, j], distance_matrix.at[i, k] + distance_matrix.at[k, j])\n",
        "\n",
        "  return distance_matrix\n"
      ]
    },
    {
      "cell_type": "code",
      "source": [
        "file_path = '/content/dataset-2.csv'\n",
        "df = pd.read_csv(file_path)\n",
        "distance_matrix = calculate_distance_matrix(df)\n",
        "print(distance_matrix)\n"
      ],
      "metadata": {
        "colab": {
          "base_uri": "https://localhost:8080/"
        },
        "id": "xx31YGTDP0zK",
        "outputId": "b1a511b9-e2a7-4fd5-9166-2533138cd3d9"
      },
      "execution_count": 28,
      "outputs": [
        {
          "output_type": "stream",
          "name": "stdout",
          "text": [
            "         1001400  1001402  1001404  1001406  1001408  1001410  1001412  \\\n",
            "1001400      0.0      9.7     29.9     45.9     67.6     78.7     94.3   \n",
            "1001402      9.7      0.0     20.2     36.2     57.9     69.0     84.6   \n",
            "1001404     29.9     20.2      0.0     16.0     37.7     48.8     64.4   \n",
            "1001406     45.9     36.2     16.0      0.0     21.7     32.8     48.4   \n",
            "1001408     67.6     57.9     37.7     21.7      0.0     11.1     26.7   \n",
            "1001410     78.7     69.0     48.8     32.8     11.1      0.0     15.6   \n",
            "1001412     94.3     84.6     64.4     48.4     26.7     15.6      0.0   \n",
            "1001414    112.5    102.8     82.6     66.6     44.9     33.8     18.2   \n",
            "1001416    125.7    116.0     95.8     79.8     58.1     47.0     31.4   \n",
            "1001418    139.3    129.6    109.4     93.4     71.7     60.6     45.0   \n",
            "1001420    152.2    142.5    122.3    106.3     84.6     73.5     57.9   \n",
            "1001422    161.8    152.1    131.9    115.9     94.2     83.1     67.5   \n",
            "1001424    173.2    163.5    143.3    127.3    105.6     94.5     78.9   \n",
            "1001426    191.8    182.1    161.9    145.9    124.2    113.1     97.5   \n",
            "1001428    207.6    197.9    177.7    161.7    140.0    128.9    113.3   \n",
            "1001430    216.2    206.5    186.3    170.3    148.6    137.5    121.9   \n",
            "1001432    225.2    215.5    195.3    179.3    157.6    146.5    130.9   \n",
            "1001434    233.1    223.4    203.2    187.2    165.5    154.4    138.8   \n",
            "1001436    237.1    227.4    207.2    191.2    169.5    158.4    142.8   \n",
            "1001438    246.1    236.4    216.2    200.2    178.5    167.4    151.8   \n",
            "1001437    242.1    232.4    212.2    196.2    174.5    163.4    147.8   \n",
            "1001440    256.1    246.4    226.2    210.2    188.5    177.4    161.8   \n",
            "1001442    260.0    250.3    230.1    214.1    192.4    181.3    165.7   \n",
            "1001488    264.5    254.8    234.6    218.6    196.9    185.8    170.2   \n",
            "1004356    268.5    258.8    238.6    222.6    200.9    189.8    174.2   \n",
            "1004354    270.5    260.8    240.6    224.6    202.9    191.8    176.2   \n",
            "1004355    272.5    262.8    242.6    226.6    204.9    193.8    178.2   \n",
            "1001444    273.2    263.5    243.3    227.3    205.6    194.5    178.9   \n",
            "1001446    279.8    270.1    249.9    233.9    212.2    201.1    185.5   \n",
            "1001448    289.4    279.7    259.5    243.5    221.8    210.7    195.1   \n",
            "1001450    305.1    295.4    275.2    259.2    237.5    226.4    210.8   \n",
            "1001452    315.0    305.3    285.1    269.1    247.4    236.3    220.7   \n",
            "1001454    326.3    316.6    296.4    280.4    258.7    247.6    232.0   \n",
            "1001456    339.9    330.2    310.0    294.0    272.3    261.2    245.6   \n",
            "1001458    348.8    339.1    318.9    302.9    281.2    270.1    254.5   \n",
            "1001460    353.9    344.2    324.0    308.0    286.3    275.2    259.6   \n",
            "1001461    366.7    357.0    336.8    320.8    299.1    288.0    272.4   \n",
            "1001462    371.8    362.1    341.9    325.9    304.2    293.1    277.5   \n",
            "1001464    398.5    388.8    368.6    352.6    330.9    319.8    304.2   \n",
            "1001466    407.0    397.3    377.1    361.1    339.4    328.3    312.7   \n",
            "1001468    417.7    408.0    387.8    371.8    350.1    339.0    323.4   \n",
            "1001470    428.3    418.6    398.4    382.4    360.7    349.6    334.0   \n",
            "1001472    444.3    434.6    414.4    398.4    376.7    365.6    350.0   \n",
            "\n",
            "         1001414  1001416  1001418  ...  1001456  1001458  1001460  1001461  \\\n",
            "1001400    112.5    125.7    139.3  ...    339.9    348.8    353.9    366.7   \n",
            "1001402    102.8    116.0    129.6  ...    330.2    339.1    344.2    357.0   \n",
            "1001404     82.6     95.8    109.4  ...    310.0    318.9    324.0    336.8   \n",
            "1001406     66.6     79.8     93.4  ...    294.0    302.9    308.0    320.8   \n",
            "1001408     44.9     58.1     71.7  ...    272.3    281.2    286.3    299.1   \n",
            "1001410     33.8     47.0     60.6  ...    261.2    270.1    275.2    288.0   \n",
            "1001412     18.2     31.4     45.0  ...    245.6    254.5    259.6    272.4   \n",
            "1001414      0.0     13.2     26.8  ...    227.4    236.3    241.4    254.2   \n",
            "1001416     13.2      0.0     13.6  ...    214.2    223.1    228.2    241.0   \n",
            "1001418     26.8     13.6      0.0  ...    200.6    209.5    214.6    227.4   \n",
            "1001420     39.7     26.5     12.9  ...    187.7    196.6    201.7    214.5   \n",
            "1001422     49.3     36.1     22.5  ...    178.1    187.0    192.1    204.9   \n",
            "1001424     60.7     47.5     33.9  ...    166.7    175.6    180.7    193.5   \n",
            "1001426     79.3     66.1     52.5  ...    148.1    157.0    162.1    174.9   \n",
            "1001428     95.1     81.9     68.3  ...    132.3    141.2    146.3    159.1   \n",
            "1001430    103.7     90.5     76.9  ...    123.7    132.6    137.7    150.5   \n",
            "1001432    112.7     99.5     85.9  ...    114.7    123.6    128.7    141.5   \n",
            "1001434    120.6    107.4     93.8  ...    106.8    115.7    120.8    133.6   \n",
            "1001436    124.6    111.4     97.8  ...    102.8    111.7    116.8    129.6   \n",
            "1001438    133.6    120.4    106.8  ...     93.8    102.7    107.8    120.6   \n",
            "1001437    129.6    116.4    102.8  ...     97.8    106.7    111.8    124.6   \n",
            "1001440    143.6    130.4    116.8  ...     83.8     92.7     97.8    110.6   \n",
            "1001442    147.5    134.3    120.7  ...     79.9     88.8     93.9    106.7   \n",
            "1001488    152.0    138.8    125.2  ...     75.4     84.3     89.4    102.2   \n",
            "1004356    156.0    142.8    129.2  ...     71.4     80.3     85.4     98.2   \n",
            "1004354    158.0    144.8    131.2  ...     69.4     78.3     83.4     96.2   \n",
            "1004355    160.0    146.8    133.2  ...     67.4     76.3     81.4     94.2   \n",
            "1001444    160.7    147.5    133.9  ...     66.7     75.6     80.7     93.5   \n",
            "1001446    167.3    154.1    140.5  ...     60.1     69.0     74.1     86.9   \n",
            "1001448    176.9    163.7    150.1  ...     50.5     59.4     64.5     77.3   \n",
            "1001450    192.6    179.4    165.8  ...     34.8     43.7     48.8     61.6   \n",
            "1001452    202.5    189.3    175.7  ...     24.9     33.8     38.9     51.7   \n",
            "1001454    213.8    200.6    187.0  ...     13.6     22.5     27.6     40.4   \n",
            "1001456    227.4    214.2    200.6  ...      0.0      8.9     14.0     26.8   \n",
            "1001458    236.3    223.1    209.5  ...      8.9      0.0      5.1     17.9   \n",
            "1001460    241.4    228.2    214.6  ...     14.0      5.1      0.0     12.8   \n",
            "1001461    254.2    241.0    227.4  ...     26.8     17.9     12.8      0.0   \n",
            "1001462    259.3    246.1    232.5  ...     31.9     23.0     17.9      5.1   \n",
            "1001464    286.0    272.8    259.2  ...     58.6     49.7     44.6     31.8   \n",
            "1001466    294.5    281.3    267.7  ...     67.1     58.2     53.1     40.3   \n",
            "1001468    305.2    292.0    278.4  ...     77.8     68.9     63.8     51.0   \n",
            "1001470    315.8    302.6    289.0  ...     88.4     79.5     74.4     61.6   \n",
            "1001472    331.8    318.6    305.0  ...    104.4     95.5     90.4     77.6   \n",
            "\n",
            "         1001462  1001464  1001466  1001468  1001470  1001472  \n",
            "1001400    371.8    398.5    407.0    417.7    428.3    444.3  \n",
            "1001402    362.1    388.8    397.3    408.0    418.6    434.6  \n",
            "1001404    341.9    368.6    377.1    387.8    398.4    414.4  \n",
            "1001406    325.9    352.6    361.1    371.8    382.4    398.4  \n",
            "1001408    304.2    330.9    339.4    350.1    360.7    376.7  \n",
            "1001410    293.1    319.8    328.3    339.0    349.6    365.6  \n",
            "1001412    277.5    304.2    312.7    323.4    334.0    350.0  \n",
            "1001414    259.3    286.0    294.5    305.2    315.8    331.8  \n",
            "1001416    246.1    272.8    281.3    292.0    302.6    318.6  \n",
            "1001418    232.5    259.2    267.7    278.4    289.0    305.0  \n",
            "1001420    219.6    246.3    254.8    265.5    276.1    292.1  \n",
            "1001422    210.0    236.7    245.2    255.9    266.5    282.5  \n",
            "1001424    198.6    225.3    233.8    244.5    255.1    271.1  \n",
            "1001426    180.0    206.7    215.2    225.9    236.5    252.5  \n",
            "1001428    164.2    190.9    199.4    210.1    220.7    236.7  \n",
            "1001430    155.6    182.3    190.8    201.5    212.1    228.1  \n",
            "1001432    146.6    173.3    181.8    192.5    203.1    219.1  \n",
            "1001434    138.7    165.4    173.9    184.6    195.2    211.2  \n",
            "1001436    134.7    161.4    169.9    180.6    191.2    207.2  \n",
            "1001438    125.7    152.4    160.9    171.6    182.2    198.2  \n",
            "1001437    129.7    156.4    164.9    175.6    186.2    202.2  \n",
            "1001440    115.7    142.4    150.9    161.6    172.2    188.2  \n",
            "1001442    111.8    138.5    147.0    157.7    168.3    184.3  \n",
            "1001488    107.3    134.0    142.5    153.2    163.8    179.8  \n",
            "1004356    103.3    130.0    138.5    149.2    159.8    175.8  \n",
            "1004354    101.3    128.0    136.5    147.2    157.8    173.8  \n",
            "1004355     99.3    126.0    134.5    145.2    155.8    171.8  \n",
            "1001444     98.6    125.3    133.8    144.5    155.1    171.1  \n",
            "1001446     92.0    118.7    127.2    137.9    148.5    164.5  \n",
            "1001448     82.4    109.1    117.6    128.3    138.9    154.9  \n",
            "1001450     66.7     93.4    101.9    112.6    123.2    139.2  \n",
            "1001452     56.8     83.5     92.0    102.7    113.3    129.3  \n",
            "1001454     45.5     72.2     80.7     91.4    102.0    118.0  \n",
            "1001456     31.9     58.6     67.1     77.8     88.4    104.4  \n",
            "1001458     23.0     49.7     58.2     68.9     79.5     95.5  \n",
            "1001460     17.9     44.6     53.1     63.8     74.4     90.4  \n",
            "1001461      5.1     31.8     40.3     51.0     61.6     77.6  \n",
            "1001462      0.0     26.7     35.2     45.9     56.5     72.5  \n",
            "1001464     26.7      0.0      8.5     19.2     29.8     45.8  \n",
            "1001466     35.2      8.5      0.0     10.7     21.3     37.3  \n",
            "1001468     45.9     19.2     10.7      0.0     10.6     26.6  \n",
            "1001470     56.5     29.8     21.3     10.6      0.0     16.0  \n",
            "1001472     72.5     45.8     37.3     26.6     16.0      0.0  \n",
            "\n",
            "[43 rows x 43 columns]\n"
          ]
        }
      ]
    },
    {
      "cell_type": "code",
      "source": [
        "import pandas as pd\n",
        "def unroll_distance_matrix(df) -> pd.DataFrame():\n",
        "  unrolled_data = []\n",
        "\n",
        "  for id_start in df.index:\n",
        "    for id_end in df.columns:\n",
        "      if id_start != id_end:\n",
        "        distance = df.at[id_start, id_end]\n",
        "        unrolled_data.append({'id_start': id_start, 'id_end': id_end, 'distance': distance})\n",
        "\n",
        "  unrolled_df = pd.DataFrame(unrolled_data)\n",
        "  return unrolled_df"
      ],
      "metadata": {
        "id": "1jcU6zM4P-LZ"
      },
      "execution_count": 29,
      "outputs": []
    },
    {
      "cell_type": "code",
      "source": [
        "distance_data = pd.read_csv('/content/dataset-2.csv')\n",
        "unrolled_df = unroll_distance_matrix(distance_matrix)\n",
        "print(unrolled_df)"
      ],
      "metadata": {
        "colab": {
          "base_uri": "https://localhost:8080/"
        },
        "id": "GMX8iKlVu1jr",
        "outputId": "c5c69544-0c85-465b-d2b7-ae706525e7b5"
      },
      "execution_count": 30,
      "outputs": [
        {
          "output_type": "stream",
          "name": "stdout",
          "text": [
            "      id_start   id_end  distance\n",
            "0      1001400  1001402       9.7\n",
            "1      1001400  1001404      29.9\n",
            "2      1001400  1001406      45.9\n",
            "3      1001400  1001408      67.6\n",
            "4      1001400  1001410      78.7\n",
            "...        ...      ...       ...\n",
            "1801   1001472  1001462      72.5\n",
            "1802   1001472  1001464      45.8\n",
            "1803   1001472  1001466      37.3\n",
            "1804   1001472  1001468      26.6\n",
            "1805   1001472  1001470      16.0\n",
            "\n",
            "[1806 rows x 3 columns]\n"
          ]
        }
      ]
    },
    {
      "cell_type": "code",
      "source": [
        "def find_ids_within_ten_percentage_threshold(df, reference_id) -> pd.DataFrame():\n",
        "  reference_avg_distance = df[df['id_start'] == reference_id]['distance'].mean()\n",
        "  lower_bound = reference_avg_distance * 0.9\n",
        "  upper_bound = reference_avg_distance * 1.1\n",
        "\n",
        "  avg_distances = df.groupby('id_start')['distance'].mean().reset_index()\n",
        "  within_threshold = avg_distances[\n",
        "    (avg_distances['distance'] >= lower_bound) & (avg_distances['distance'] <= upper_bound)\n",
        "    ]\n",
        "  within_threshold_sorted = within_threshold.sort_values(by='id_start').reset_index(drop=True)\n",
        "  return within_threshold_sorted"
      ],
      "metadata": {
        "id": "mx3j0aaGStht"
      },
      "execution_count": 31,
      "outputs": []
    },
    {
      "cell_type": "code",
      "source": [
        "reference_id = 1001400\n",
        "result_df = find_ids_within_ten_percentage_threshold(unrolled_df, reference_id)\n",
        "print(result_df)"
      ],
      "metadata": {
        "colab": {
          "base_uri": "https://localhost:8080/"
        },
        "id": "ATWqo4gKvahu",
        "outputId": "7600d93f-e4dc-493c-a7e1-d564e74dbf01"
      },
      "execution_count": 32,
      "outputs": [
        {
          "output_type": "stream",
          "name": "stdout",
          "text": [
            "   id_start    distance\n",
            "0   1001400  243.995238\n",
            "1   1001402  234.526190\n"
          ]
        }
      ]
    },
    {
      "cell_type": "code",
      "source": [
        "import pandas as pd\n",
        "def calculate_toll_rate(df: pd.DataFrame) -> pd.DataFrame:\n",
        "    df['moto'] = df['distance'] * 0.8\n",
        "    df['car'] = df['distance'] * 1.2\n",
        "    df['rv'] = df['distance'] * 1.5\n",
        "    df['bus'] = df['distance'] * 2.2\n",
        "    df['truck'] = df['distance'] * 3.6\n",
        "    return df\n",
        "\n",
        "unrolled_df_with_toll = calculate_toll_rate(unrolled_df)\n",
        "print(unrolled_df_with_toll)\n"
      ],
      "metadata": {
        "colab": {
          "base_uri": "https://localhost:8080/"
        },
        "id": "3Qq8rddBUOPr",
        "outputId": "94a62710-34bf-4161-f567-21721627d97f"
      },
      "execution_count": 33,
      "outputs": [
        {
          "output_type": "stream",
          "name": "stdout",
          "text": [
            "      id_start   id_end  distance   moto    car      rv     bus   truck\n",
            "0      1001400  1001402       9.7   7.76  11.64   14.55   21.34   34.92\n",
            "1      1001400  1001404      29.9  23.92  35.88   44.85   65.78  107.64\n",
            "2      1001400  1001406      45.9  36.72  55.08   68.85  100.98  165.24\n",
            "3      1001400  1001408      67.6  54.08  81.12  101.40  148.72  243.36\n",
            "4      1001400  1001410      78.7  62.96  94.44  118.05  173.14  283.32\n",
            "...        ...      ...       ...    ...    ...     ...     ...     ...\n",
            "1801   1001472  1001462      72.5  58.00  87.00  108.75  159.50  261.00\n",
            "1802   1001472  1001464      45.8  36.64  54.96   68.70  100.76  164.88\n",
            "1803   1001472  1001466      37.3  29.84  44.76   55.95   82.06  134.28\n",
            "1804   1001472  1001468      26.6  21.28  31.92   39.90   58.52   95.76\n",
            "1805   1001472  1001470      16.0  12.80  19.20   24.00   35.20   57.60\n",
            "\n",
            "[1806 rows x 8 columns]\n"
          ]
        }
      ]
    },
    {
      "cell_type": "code",
      "source": [
        "import pandas as pd\n",
        "import datetime\n",
        "\n",
        "def calculate_time_based_toll_rates(df: pd.DataFrame) -> pd.DataFrame:\n",
        "    weekday_intervals = [\n",
        "        (datetime.time(0, 0), datetime.time(10, 0), 0.8),\n",
        "        (datetime.time(10, 0), datetime.time(18, 0), 1.2),\n",
        "        (datetime.time(18, 0), datetime.time(23, 59, 59), 0.8)\n",
        "    ]\n",
        "\n",
        "    weekend_intervals = [\n",
        "        (datetime.time(0, 0), datetime.time(23, 59, 59), 0.7)\n",
        "    ]\n",
        "\n",
        "    weekdays = [\"Monday\", \"Tuesday\", \"Wednesday\", \"Thursday\", \"Friday\"]\n",
        "    weekends = [\"Saturday\", \"Sunday\"]\n",
        "\n",
        "    rows = []\n",
        "\n",
        "    for _, row in df.iterrows():\n",
        "        for day in weekdays + weekends:\n",
        "            if day in weekdays:\n",
        "                intervals = weekday_intervals\n",
        "            else:\n",
        "                intervals = weekend_intervals\n",
        "\n",
        "            for start_time, end_time, discount in intervals:\n",
        "                new_row = row.copy()\n",
        "                new_row['start_day'] = day\n",
        "                new_row['end_day'] = day\n",
        "                new_row['start_time'] = start_time\n",
        "                new_row['end_time'] = end_time\n",
        "\n",
        "                new_row['moto'] = row['moto'] * discount\n",
        "                new_row['car'] = row['car'] * discount\n",
        "                new_row['rv'] = row['rv'] * discount\n",
        "                new_row['bus'] = row['bus'] * discount\n",
        "                new_row['truck'] = row['truck'] * discount\n",
        "\n",
        "                rows.append(new_row)\n",
        "\n",
        "    result_df = pd.DataFrame(rows)\n",
        "\n",
        "    return result_df\n"
      ],
      "metadata": {
        "id": "rZOos8tUXq86"
      },
      "execution_count": 35,
      "outputs": []
    },
    {
      "cell_type": "code",
      "source": [
        "time_based_df = calculate_time_based_toll_rates(unrolled_df_with_toll)"
      ],
      "metadata": {
        "id": "sueMACJC12bY"
      },
      "execution_count": 36,
      "outputs": []
    },
    {
      "cell_type": "code",
      "source": [
        "print(time_based_df)"
      ],
      "metadata": {
        "colab": {
          "base_uri": "https://localhost:8080/"
        },
        "id": "LLuTrnin16Jj",
        "outputId": "90d69608-1691-4538-9ffa-2fc4306b0cd6"
      },
      "execution_count": 37,
      "outputs": [
        {
          "output_type": "stream",
          "name": "stdout",
          "text": [
            "       id_start     id_end  distance    moto     car     rv     bus   truck  \\\n",
            "0     1001400.0  1001402.0       9.7   6.208   9.312  11.64  17.072  27.936   \n",
            "0     1001400.0  1001402.0       9.7   9.312  13.968  17.46  25.608  41.904   \n",
            "0     1001400.0  1001402.0       9.7   6.208   9.312  11.64  17.072  27.936   \n",
            "0     1001400.0  1001402.0       9.7   6.208   9.312  11.64  17.072  27.936   \n",
            "0     1001400.0  1001402.0       9.7   9.312  13.968  17.46  25.608  41.904   \n",
            "...         ...        ...       ...     ...     ...    ...     ...     ...   \n",
            "1805  1001472.0  1001470.0      16.0  10.240  15.360  19.20  28.160  46.080   \n",
            "1805  1001472.0  1001470.0      16.0  15.360  23.040  28.80  42.240  69.120   \n",
            "1805  1001472.0  1001470.0      16.0  10.240  15.360  19.20  28.160  46.080   \n",
            "1805  1001472.0  1001470.0      16.0   8.960  13.440  16.80  24.640  40.320   \n",
            "1805  1001472.0  1001470.0      16.0   8.960  13.440  16.80  24.640  40.320   \n",
            "\n",
            "     start_day   end_day start_time  end_time  \n",
            "0       Monday    Monday   00:00:00  10:00:00  \n",
            "0       Monday    Monday   10:00:00  18:00:00  \n",
            "0       Monday    Monday   18:00:00  23:59:59  \n",
            "0      Tuesday   Tuesday   00:00:00  10:00:00  \n",
            "0      Tuesday   Tuesday   10:00:00  18:00:00  \n",
            "...        ...       ...        ...       ...  \n",
            "1805    Friday    Friday   00:00:00  10:00:00  \n",
            "1805    Friday    Friday   10:00:00  18:00:00  \n",
            "1805    Friday    Friday   18:00:00  23:59:59  \n",
            "1805  Saturday  Saturday   00:00:00  23:59:59  \n",
            "1805    Sunday    Sunday   00:00:00  23:59:59  \n",
            "\n",
            "[30702 rows x 12 columns]\n"
          ]
        }
      ]
    },
    {
      "cell_type": "code",
      "source": [],
      "metadata": {
        "id": "XZkUfbjL18Ea"
      },
      "execution_count": null,
      "outputs": []
    }
  ]
}